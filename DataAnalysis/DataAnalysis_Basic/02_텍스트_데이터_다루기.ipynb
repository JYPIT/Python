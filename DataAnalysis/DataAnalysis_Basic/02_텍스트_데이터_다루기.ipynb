{
  "nbformat": 4,
  "nbformat_minor": 0,
  "metadata": {
    "colab": {
      "name": "02_텍스트 데이터 다루기.ipynb",
      "provenance": [],
      "collapsed_sections": []
    },
    "kernelspec": {
      "name": "python3",
      "display_name": "Python 3"
    },
    "language_info": {
      "name": "python"
    }
  },
  "cells": [
    {
      "cell_type": "markdown",
      "metadata": {
        "id": "TZ5Bc-3pA1qS"
      },
      "source": [
        "BeautifulSoup 사용하여 HTML 파싱"
      ]
    },
    {
      "cell_type": "code",
      "metadata": {
        "id": "BX7AdI9vA4S6"
      },
      "source": [
        "from bs4 import BeautifulSoup\n",
        "from urllib.request import urlopen\n",
        "\n",
        "soup1 = BeautifulSoup(\"<HTML><HEAD><<headers>></HEAD><<body>></HTML>\")\n",
        "\n",
        "soup2 = BeautifulSoup(open(\"myDoc.html\"))\n",
        "\n",
        "soup3 = BeautifulSoup(urlopen(\"http://www.networksciencelab.com/\"))\n"
      ],
      "execution_count": null,
      "outputs": []
    },
    {
      "cell_type": "code",
      "metadata": {
        "colab": {
          "base_uri": "https://localhost:8080/"
        },
        "id": "LCIUoKGqC48t",
        "outputId": "e2fad7b7-65eb-4118-ced1-06b03f295df8"
      },
      "source": [
        "soup1"
      ],
      "execution_count": null,
      "outputs": [
        {
          "output_type": "execute_result",
          "data": {
            "text/plain": [
              "<html><head></head><body><p>&lt;<headers>&gt;&lt;&gt;</headers></p></body></html>"
            ]
          },
          "metadata": {
            "tags": []
          },
          "execution_count": 7
        }
      ]
    },
    {
      "cell_type": "code",
      "metadata": {
        "colab": {
          "base_uri": "https://localhost:8080/"
        },
        "id": "BGvDZ53GC61R",
        "outputId": "875cab2f-6217-42ac-9096-b68b7044e56d"
      },
      "source": [
        "soup2"
      ],
      "execution_count": null,
      "outputs": [
        {
          "output_type": "execute_result",
          "data": {
            "text/plain": [
              "<html><head></head><body><p>&lt;<headers>&gt;&lt;&gt;</headers></p></body></html>"
            ]
          },
          "metadata": {
            "tags": []
          },
          "execution_count": 8
        }
      ]
    },
    {
      "cell_type": "code",
      "metadata": {
        "colab": {
          "base_uri": "https://localhost:8080/"
        },
        "id": "pOESnzkMC7Xz",
        "outputId": "45a3ca67-fc14-429d-f590-84d0efcc6c01"
      },
      "source": [
        "soup3"
      ],
      "execution_count": null,
      "outputs": [
        {
          "output_type": "execute_result",
          "data": {
            "text/plain": [
              "<html>\n",
              "<head>\n",
              "<title>My Little Network Science Lab</title>\n",
              "<link href=\"style.css\" rel=\"stylesheet\" type=\"text/css\"/>\n",
              "<meta charset=\"utf-8\"/>\n",
              "</head>\n",
              "<body>\n",
              "<h1>My Little Network Science Lab</h1>\n",
              "<h2>By Dmitry Zinoviev</h2>\n",
              "<p>\n",
              "</p><table class=\"hdr\"><tr><td><h3 class=\"nomargin\">Books</h3></td></tr></table>\n",
              "<p>\n",
              "<a href=\"https://pragprog.com/book/dzpyds/data-science-essentials-in-python\"><img align=\"left\" border=\"1\" src=\"https://imagery.pragprog.com/products/490/dzpyds_xlargecover.jpg?1468006361\"/></a>\n",
              "<a href=\"https://pragprog.com/book/dzcnapy/complex-network-analysis-in-python\"><img align=\"left\" border=\"1\" src=\"https://imagery.pragprog.com/products/541/dzcnapy_xlargecover.jpg?1508250011\"/></a>\n",
              "\n",
              "\n",
              "I am excited to announce my books, \"Data Science Essentials in Python. Collect →  Organize →  Explore →  Predict →  Value\" (a.k.a. DZPYDS) and \"Complex Network Analysis in Python. Recognize → Construct → Visualize → Analyze → Interpret\" (a.k.a. DZCNAPY), published by the Pragmatic Bookshelf.\n",
              "</p><p>\n",
              "The <b>first book</b> is intended for seasoned data scientists and statisticians migrating from R to Python, as well as for beginners willing to learn elements of data science in Python.\n",
              "</p><p>\n",
              "The book leads you from messy, unstructured artifacts stored in SQL and NoSQL databases to a neat, well-organized dataset. It covers text mining, machine learning, and network analysis; processing numeric data with the NumPy and Pandas modules; and describing and analyzing data using statistical and network-theoretical methods. It has actual examples of data analysis at work, as well as mini-projects for you to enjoy. \n",
              "</p><p>\n",
              "  The <b>second book</b> shows how, starting with simple networks, one can convert real-life and synthetic network graphs into Networkx data structures. The reader will look at more sophisticated networks and learn more powerful machinery to handle centrality calculation, blockmodeling, and clique and community detection. Get familiar with presentation-quality network visualization tools, both programmable and interactive--such as Gephi, a CNA explorer. The reader will  adapt the patterns from the case studies to your problems, explore big networks with NetworKit, a high-performance networkx substitute. Each part in the book gives an overview of a class of networks, includes a practical study of networkx functions and techniques, and concludes with case studies from various fields, including social networking, anthropology, marketing, and sports analytics.\n",
              "</p><p>\n",
              "  \n",
              "The books are available for purchase at the publisher's site, and on Amazon (<a href=\"https://www.amazon.com/gp/product/1680501844\">DZPYDS</a>, <a href=\"https://www.amazon.com/gp/product/1680502697\">DZCNAPY</a>).\n",
              "</p><p>\n",
              "</p><table class=\"hdr\"><tr><td><h3 class=\"nomargin\">Presentations</h3></td></tr></table>\n",
              "<ul>\n",
              "<li><a href=\"http://www.slideshare.net/DmitryZinoviev/networks-of-music-groups-as-success-predictors\">Networks of Music Groups as Success Predictors</a> - Social networks, digital humanities\n",
              "</li><li><a href=\"http://www.slideshare.net/DmitryZinoviev/workshop-20212296\">Network Science Workshop</a> - General networks\n",
              "</li><li><a href=\"http://www.slideshare.net/DmitryZinoviev/resilience-in-transactional-networks\">Resilience in Transaction-Oriented Networks</a> - Communication networks\n",
              "</li><li><a href=\"http://www.slideshare.net/DmitryZinoviev/peer-ratings-in-massive-online-social-networks\">Peer Ratings in Massive Online Social Networks</a> - Social networks\n",
              "</li><li><a href=\"http://www.slideshare.net/DmitryZinoviev/presentation-31680572\">Semantic Networks of Interests in Online NSSI Communities</a> - Semantic networks\n",
              "</li><li><a href=\"http://www.slideshare.net/DmitryZinoviev/10-monthsymposiumbeta\">Towards an Ideal Store</a> - Product networks\n",
              "</li></ul>\n",
              "<table class=\"hdr\"><tr><td><h3 class=\"nomargin\">Publications</h3></td></tr></table>\n",
              "<ul>\n",
              "<li><a href=\"https://media.pragprog.com/newsletters/2016-04-06.html\">D.Zinoviev, \"Analyzing Cultural Domains with Python,\"</a> <i>PragPub</i>, 82, pp. 26-33, Apr 2016\n",
              "</li><li><a href=\"http://dhj.sagepub.com/content/2/2055207616642118.full\">D. Zinoviev, D. Stefanescu, G. Fireman, and L. Swenson, \"Semantic networks of interests in online non-suicidal self-injury communities,\"</a> <i>Digital Health</i>, doi:10.1177/2055207616642118, SAGE, Apr 2016\n",
              "</li><li><a href=\"http://www.mitpressjournals.org/doi/abs/10.1162/LEON_a_01271#.VzOvwHUrKzc\">D.Zinoviev, \"The Pain of Complexity,\"</a>, <i>Leonardo</i>, 2016\n",
              "</li><li><a href=\"http://link.springer.com/chapter/10.1007/978-3-319-16112-9_18\">D.Zinoviev, Z.Zhu, and K.Li, \"Building mini-categories in product networks,\"</a> in <i>Studies in Computational Intelligence</i>, vol. 597, pp. 179-190, Springer, Mar 2015\n",
              "</li><li><a href=\"http://arxiv.org/abs/1409.6771\">D.Zinoviev, H.Benbrahim, G.Meszoely, and D.Stefanescu, \"Mitigation of delayed management costs in transaction-oriented systems,\"</a> Sep 2014\n",
              "</li><li><a href=\"http://dl.acm.org/citation.cfm?id=2499974\">D.Zinoviev, H.Benbrahim, G.Meszoely, and D.Stefanescu, \"Simulating resilience in transaction-oriented networks,\"</a> in <i>Proc. Spring Simulation Multi-Conference</i>, (San Diego, CA), Apr. 2013\n",
              "</li><li><a href=\"http://arxiv.org/abs/1206.5520\">D.Zinoviev, D.Stefanescu, L.Swenson, and G.Fireman, \"Semantic networks of interests in online NSSI communities,\"</a> in <i>Proc. Workshop \"Words and Networks\"</i> (Evanston, IL), June 2012\n",
              "</li><li><a href=\"http://arxiv.org/abs/1401.6964\">D.Zinoviev and S.Llewelyn, \"Co-Evolution of Friendship and Publishing in Online Blogging Social Networks,\"</a> <i>WebSci-2012</i> (poster)\n",
              "</li><li><a href=\"http://dl.acm.org/citation.cfm?id=2208181\">D.Zinoviev, \"Information diffusion in social networks,\"</a> in <i>Social Networking and Community Behavior Modeling: Qualitative and Quantitative Measures</i> (M. Safar, ed.), Hershey, PA: IGI Global, Dec. 2011\n",
              "</li><li><a href=\"http://dl.acm.org/citation.cfm?id=2048377\">D.Zinoviev and V.Duong, \"A game theoretical approach to broadcast  information diffusion in social networks,\"</a> 6. in <i>Proc. 44th Annual Simulation Symp.</i>, (Boston, MA), pp. 47-52, Apr. 2011\n",
              "</li><li><a href=\"http://dl.acm.org/citation.cfm?id=1999462\">D.Zinoviev and V.Duong, \"A game theoretical approach to modeling full-duplex information dissemination,\"</a> in <i>Proc. Summer Simulation Multi-Conference</i>, (Ottawa, Canada), pp. 358-363, July 2010\n",
              "</li><li><a href=\"http://arxiv.org/abs/1006.5493\">D.Zinoviev, V.Duong, and H.Zhang, \"A game theoretical approach to modeling information dissemination in social networks,\"</a> in <i>Proc. Int. Multi-Conference on Complexity, Informatics and Cybernetics</i>, vol. I, pp. 407-412, IIIS, Apr. 2010\n",
              "</li><li><a href=\"http://arxiv.org/abs/0902.4658\">D.Zinoviev and V.Duong, \"Toward Understanding Friendship in Online Social Networks,\"</a> <i>The Intl J. of Technology, Knowledge, and Society</i>, pp. 1-8, May 2009\n",
              "</li><li><a href=\"http://arxiv.org/abs/0807.3996\">D.Zinoviev, \"Topology and Geometry of Online Social Networks,\"</a> in <i>Proc. 12th World Multi-Conference on Systemics, Cybernetics and Informatics</i>, vol. VI, pp. 138-143, 2008\n",
              "</li></ul>\n",
              "<table class=\"hdr\"><tr><td><h3 class=\"nomargin\">Other Projects</h3></td></tr></table>\n",
              "<ul>\n",
              "<li><a href=\"/vixi/html5/\">Vixi: The Game of Meaning</a>, produced in collaboration with <a href=\"http://meaningoflife.cherkasova.org/\">Evgenia Cherkasova</a> from Philosophy Department.\n",
              "</li><li><a href=\"v2.jpg\">All Characters from War and Peace by L.Tolstoy</a>\n",
              "</li><li><a href=\"bible-networks.pdf\">Mapping the Bible: Social Networks in the Holy Book</a>. A book of graphs.\n",
              "</li><li><a href=\"wc2014.gif\">FIFA World Cup 2014: Who Beat Whom?</a>\n",
              "</li><li><a href=\"facebook_spread.gif\">The seed post \"9 American habits I lost when I moved to Germany\" and its 125 \"likes\" and \"shares\" on Facebook</a>. Nodes represent Facebook users, node sizes - number of friends/followers. Two nodes are connected if they are friends/followers and both reacted to the seed post. Red nodes denote shares. The post was originally published at the yellow node.\n",
              "</li></ul>\n",
              "<table class=\"hdr\"><tr><td><h3 class=\"nomargin\">Contacts</h3></td></tr></table>\n",
              "<ul>\n",
              "<li><a href=\"mailto:dzinoviev@suffolk.edu\">Email</a>\n",
              "</li><li><a href=\"https://www.suffolk.edu/academics/faculty/z/i/dmitry-zinoviev\">Suffolk University</a>\n",
              "</li><li><a href=\"https://scholar.google.com/citations?hl=en&amp;user=j5GjuIkAAAAJ&amp;sortby=pubdate&amp;view_op=list_works&amp;pagesize=100\">Google Scholar</a>\n",
              "</li><li><a href=\"https://www.linkedin.com/pub/dmitry-zinoviev/4/a78/27b\">LinkedIn</a>\n",
              "</li><li><a href=\"https://suffolk.academia.edu/DmitryZinoviev\">Academia.edu</a>\n",
              "</li><li><a href=\"https://www.researchgate.net/profile/Dmitry_Zinoviev\">ResearchGate</a>\n",
              "</li></ul>\n",
              "</body>\n",
              "</html>"
            ]
          },
          "metadata": {
            "tags": []
          },
          "execution_count": 9
        }
      ]
    },
    {
      "cell_type": "markdown",
      "metadata": {
        "id": "suAGtKFDDeqZ"
      },
      "source": [
        "find(), find_all() 특정 속성 (href= 하이퍼링크 정보) 값 찾기\n",
        "\n",
        "\n",
        "\n"
      ]
    },
    {
      "cell_type": "code",
      "metadata": {
        "colab": {
          "base_uri": "https://localhost:8080/"
        },
        "id": "TjOHQ8XSD0dS",
        "outputId": "340fc146-00be-41af-f2c4-ad380aa143f5"
      },
      "source": [
        "# http://www.networksciencelab.com/ 에서 하이퍼링크 정보 가져오기\n",
        "from bs4 import BeautifulSoup\n",
        "from urllib.request import urlopen\n",
        "\n",
        "with urlopen(\"http://www.networksciencelab.com/\") as doc:\n",
        "  soup = BeautifulSoup(doc)\n",
        "\n",
        "# 하이퍼 링크 추출 a라는 태그안에 있는 href 가져와\n",
        "links = [(link.string, link[\"href\"]) for link in soup.find_all(\"a\") if link.has_attr(\"href\")]\n",
        "links"
      ],
      "execution_count": null,
      "outputs": [
        {
          "output_type": "execute_result",
          "data": {
            "text/plain": [
              "[(None, 'https://pragprog.com/book/dzpyds/data-science-essentials-in-python'),\n",
              " (None,\n",
              "  'https://pragprog.com/book/dzcnapy/complex-network-analysis-in-python'),\n",
              " ('DZPYDS', 'https://www.amazon.com/gp/product/1680501844'),\n",
              " ('DZCNAPY', 'https://www.amazon.com/gp/product/1680502697'),\n",
              " ('Networks of Music Groups as Success Predictors',\n",
              "  'http://www.slideshare.net/DmitryZinoviev/networks-of-music-groups-as-success-predictors'),\n",
              " ('Network Science Workshop',\n",
              "  'http://www.slideshare.net/DmitryZinoviev/workshop-20212296'),\n",
              " ('Resilience in Transaction-Oriented Networks',\n",
              "  'http://www.slideshare.net/DmitryZinoviev/resilience-in-transactional-networks'),\n",
              " ('Peer Ratings in Massive Online Social Networks',\n",
              "  'http://www.slideshare.net/DmitryZinoviev/peer-ratings-in-massive-online-social-networks'),\n",
              " ('Semantic Networks of Interests in Online NSSI Communities',\n",
              "  'http://www.slideshare.net/DmitryZinoviev/presentation-31680572'),\n",
              " ('Towards an Ideal Store',\n",
              "  'http://www.slideshare.net/DmitryZinoviev/10-monthsymposiumbeta'),\n",
              " ('D.Zinoviev, \"Analyzing Cultural Domains with Python,\"',\n",
              "  'https://media.pragprog.com/newsletters/2016-04-06.html'),\n",
              " ('D. Zinoviev, D. Stefanescu, G. Fireman, and L. Swenson, \"Semantic networks of interests in online non-suicidal self-injury communities,\"',\n",
              "  'http://dhj.sagepub.com/content/2/2055207616642118.full'),\n",
              " ('D.Zinoviev, \"The Pain of Complexity,\"',\n",
              "  'http://www.mitpressjournals.org/doi/abs/10.1162/LEON_a_01271#.VzOvwHUrKzc'),\n",
              " ('D.Zinoviev, Z.Zhu, and K.Li, \"Building mini-categories in product networks,\"',\n",
              "  'http://link.springer.com/chapter/10.1007/978-3-319-16112-9_18'),\n",
              " ('D.Zinoviev, H.Benbrahim, G.Meszoely, and D.Stefanescu, \"Mitigation of delayed management costs in transaction-oriented systems,\"',\n",
              "  'http://arxiv.org/abs/1409.6771'),\n",
              " ('D.Zinoviev, H.Benbrahim, G.Meszoely, and D.Stefanescu, \"Simulating resilience in transaction-oriented networks,\"',\n",
              "  'http://dl.acm.org/citation.cfm?id=2499974'),\n",
              " ('D.Zinoviev, D.Stefanescu, L.Swenson, and G.Fireman, \"Semantic networks of interests in online NSSI communities,\"',\n",
              "  'http://arxiv.org/abs/1206.5520'),\n",
              " ('D.Zinoviev and S.Llewelyn, \"Co-Evolution of Friendship and Publishing in Online Blogging Social Networks,\"',\n",
              "  'http://arxiv.org/abs/1401.6964'),\n",
              " ('D.Zinoviev, \"Information diffusion in social networks,\"',\n",
              "  'http://dl.acm.org/citation.cfm?id=2208181'),\n",
              " ('D.Zinoviev and V.Duong, \"A game theoretical approach to broadcast  information diffusion in social networks,\"',\n",
              "  'http://dl.acm.org/citation.cfm?id=2048377'),\n",
              " ('D.Zinoviev and V.Duong, \"A game theoretical approach to modeling full-duplex information dissemination,\"',\n",
              "  'http://dl.acm.org/citation.cfm?id=1999462'),\n",
              " ('D.Zinoviev, V.Duong, and H.Zhang, \"A game theoretical approach to modeling information dissemination in social networks,\"',\n",
              "  'http://arxiv.org/abs/1006.5493'),\n",
              " ('D.Zinoviev and V.Duong, \"Toward Understanding Friendship in Online Social Networks,\"',\n",
              "  'http://arxiv.org/abs/0902.4658'),\n",
              " ('D.Zinoviev, \"Topology and Geometry of Online Social Networks,\"',\n",
              "  'http://arxiv.org/abs/0807.3996'),\n",
              " ('Vixi: The Game of Meaning', '/vixi/html5/'),\n",
              " ('Evgenia Cherkasova', 'http://meaningoflife.cherkasova.org/'),\n",
              " ('All Characters from War and Peace by L.Tolstoy', 'v2.jpg'),\n",
              " ('Mapping the Bible: Social Networks in the Holy Book', 'bible-networks.pdf'),\n",
              " ('FIFA World Cup 2014: Who Beat Whom?', 'wc2014.gif'),\n",
              " ('The seed post \"9 American habits I lost when I moved to Germany\" and its 125 \"likes\" and \"shares\" on Facebook',\n",
              "  'facebook_spread.gif'),\n",
              " ('Email', 'mailto:dzinoviev@suffolk.edu'),\n",
              " ('Suffolk University',\n",
              "  'https://www.suffolk.edu/academics/faculty/z/i/dmitry-zinoviev'),\n",
              " ('Google Scholar',\n",
              "  'https://scholar.google.com/citations?hl=en&user=j5GjuIkAAAAJ&sortby=pubdate&view_op=list_works&pagesize=100'),\n",
              " ('LinkedIn', 'https://www.linkedin.com/pub/dmitry-zinoviev/4/a78/27b'),\n",
              " ('Academia.edu', 'https://suffolk.academia.edu/DmitryZinoviev'),\n",
              " ('ResearchGate', 'https://www.researchgate.net/profile/Dmitry_Zinoviev')]"
            ]
          },
          "metadata": {
            "tags": []
          },
          "execution_count": 85
        }
      ]
    },
    {
      "cell_type": "markdown",
      "metadata": {
        "id": "McELBKVzjBxx"
      },
      "source": [
        "CSV 파일 다루기"
      ]
    },
    {
      "cell_type": "markdown",
      "metadata": {
        "id": "6JEeVtnsixD4"
      },
      "source": [
        "statistics 모듈을 사용해서 나이 변수의 평균과 표준편차 구하기"
      ]
    },
    {
      "cell_type": "markdown",
      "metadata": {
        "id": "KRIMUWxXi7FY"
      },
      "source": [
        "데이터 가져오기"
      ]
    },
    {
      "cell_type": "code",
      "metadata": {
        "id": "xr9qVaxKiyR_"
      },
      "source": [
        "import csv \n",
        "\n",
        "with open(\"/content/Demographic_Statistics_By_Zip_Code.csv\") as infile:\n",
        "  data = list(csv.reader(infile))"
      ],
      "execution_count": null,
      "outputs": []
    },
    {
      "cell_type": "code",
      "metadata": {
        "colab": {
          "base_uri": "https://localhost:8080/"
        },
        "id": "hR8zpK0qkFmE",
        "outputId": "98f2fb76-d38a-43a1-cec8-1f6c9002cedf"
      },
      "source": [
        "#첫번째 레코드에 count participants 데이터 인덱스 값 추출 data[0] 컬럼 값\n",
        "\n",
        "countParticipantsIndex = data[0].index(\"COUNT PARTICIPANTS\")\n",
        "countParticipantsIndex"
      ],
      "execution_count": null,
      "outputs": [
        {
          "output_type": "execute_result",
          "data": {
            "text/plain": [
              "1"
            ]
          },
          "metadata": {
            "tags": []
          },
          "execution_count": 14
        }
      ]
    },
    {
      "cell_type": "code",
      "metadata": {
        "id": "47trpHzAk-NZ"
      },
      "source": [
        "# count participants 데이터 추출\n",
        "\n",
        "countParticipants = [int(row[countParticipantsIndex]) for row in data[1:]]\n",
        "# countParticipants"
      ],
      "execution_count": null,
      "outputs": []
    },
    {
      "cell_type": "code",
      "metadata": {
        "colab": {
          "base_uri": "https://localhost:8080/"
        },
        "id": "NXNybuDZmUsx",
        "outputId": "fe36a8d7-c71d-451a-8a41-7ede7e5fe338"
      },
      "source": [
        "import statistics\n",
        "\n",
        "print(statistics.mean(countParticipants),statistics.stdev(countParticipants))"
      ],
      "execution_count": null,
      "outputs": [
        {
          "output_type": "stream",
          "text": [
            "17.661016949152543 43.27973735299687\n"
          ],
          "name": "stdout"
        }
      ]
    },
    {
      "cell_type": "code",
      "metadata": {
        "colab": {
          "base_uri": "https://localhost:8080/"
        },
        "id": "QRzLWT9qvchV",
        "outputId": "632aa608-a0d7-4c32-ca19-2525683843bf"
      },
      "source": [
        "pip install nltk"
      ],
      "execution_count": null,
      "outputs": [
        {
          "output_type": "stream",
          "text": [
            "Requirement already satisfied: nltk in /usr/local/lib/python3.7/dist-packages (3.2.5)\n",
            "Requirement already satisfied: six in /usr/local/lib/python3.7/dist-packages (from nltk) (1.15.0)\n"
          ],
          "name": "stdout"
        }
      ]
    },
    {
      "cell_type": "code",
      "metadata": {
        "colab": {
          "base_uri": "https://localhost:8080/",
          "height": 35
        },
        "id": "jHoFxJ_2vgFY",
        "outputId": "3f8b1b19-44d8-41a3-bced-8b1111942930"
      },
      "source": [
        "import nltk\n",
        "nltk.__version__"
      ],
      "execution_count": null,
      "outputs": [
        {
          "output_type": "execute_result",
          "data": {
            "application/vnd.google.colaboratory.intrinsic+json": {
              "type": "string"
            },
            "text/plain": [
              "'3.2.5'"
            ]
          },
          "metadata": {
            "tags": []
          },
          "execution_count": 30
        }
      ]
    },
    {
      "cell_type": "code",
      "metadata": {
        "colab": {
          "base_uri": "https://localhost:8080/"
        },
        "id": "3AE7MK5pvxu3",
        "outputId": "0e815357-0d60-4bff-80f4-b339399cf808"
      },
      "source": [
        "#https://frhyme.github.io/python-lib/nltk-wordnet/\n",
        "nltk.download('wordnet')"
      ],
      "execution_count": null,
      "outputs": [
        {
          "output_type": "stream",
          "text": [
            "[nltk_data] Downloading package wordnet to /root/nltk_data...\n",
            "[nltk_data]   Package wordnet is already up-to-date!\n"
          ],
          "name": "stdout"
        },
        {
          "output_type": "execute_result",
          "data": {
            "text/plain": [
              "True"
            ]
          },
          "metadata": {
            "tags": []
          },
          "execution_count": 32
        }
      ]
    },
    {
      "cell_type": "code",
      "metadata": {
        "colab": {
          "base_uri": "https://localhost:8080/"
        },
        "id": "KcQCEbjOxZj7",
        "outputId": "b179e046-8bfd-4045-c130-f679da49a2d2"
      },
      "source": [
        "wn = nltk.corpus.wordnet # 코퍼스 리더\n",
        "\n",
        "#synset : 유의어 묶음으로 단어-품사-순번 으로 구성\n",
        "\n",
        "wn.synsets(\"cat\") #이건 목차"
      ],
      "execution_count": null,
      "outputs": [
        {
          "output_type": "execute_result",
          "data": {
            "text/plain": [
              "[Synset('cat.n.01'),\n",
              " Synset('guy.n.01'),\n",
              " Synset('cat.n.03'),\n",
              " Synset('kat.n.01'),\n",
              " Synset('cat-o'-nine-tails.n.01'),\n",
              " Synset('caterpillar.n.02'),\n",
              " Synset('big_cat.n.01'),\n",
              " Synset('computerized_tomography.n.01'),\n",
              " Synset('cat.v.01'),\n",
              " Synset('vomit.v.01')]"
            ]
          },
          "metadata": {
            "tags": []
          },
          "execution_count": 34
        }
      ]
    },
    {
      "cell_type": "code",
      "metadata": {
        "colab": {
          "base_uri": "https://localhost:8080/"
        },
        "id": "hfcMly3qx5A4",
        "outputId": "3c463f8a-27e1-4889-c967-712e8dc9c5a6"
      },
      "source": [
        "wn.synset('cat.n.01').hypernyms() #hypernyms 상위어\n",
        "wn.synset('cat.n.01').hyponyms() #hyponyms 하위어"
      ],
      "execution_count": null,
      "outputs": [
        {
          "output_type": "execute_result",
          "data": {
            "text/plain": [
              "[Synset('domestic_cat.n.01'), Synset('wildcat.n.03')]"
            ]
          },
          "metadata": {
            "tags": []
          },
          "execution_count": 42
        }
      ]
    },
    {
      "cell_type": "markdown",
      "metadata": {
        "id": "PLZF5S59y_QB"
      },
      "source": [
        "WordNet 사용해서 synset 간 의미론적 유사도 계산하기 (0-1 사이 실수) <br>\n",
        "0 이면 두 단어 서로 관계 없음\n",
        "1 이면 완전하 유의어"
      ]
    },
    {
      "cell_type": "code",
      "metadata": {
        "colab": {
          "base_uri": "https://localhost:8080/"
        },
        "id": "8GhDtC0UzTVE",
        "outputId": "cb0c69ff-836e-4888-9323-e9b2990a7b11"
      },
      "source": [
        "x = wn.synset('cat.n.01') \n",
        "y = wn.synset ('lynx.n.01')\n",
        "\n",
        "# x,y 유사도 계산\n",
        "x.path_similarity(y)"
      ],
      "execution_count": null,
      "outputs": [
        {
          "output_type": "execute_result",
          "data": {
            "text/plain": [
              "0.04"
            ]
          },
          "metadata": {
            "tags": []
          },
          "execution_count": 44
        }
      ]
    },
    {
      "cell_type": "code",
      "metadata": {
        "colab": {
          "base_uri": "https://localhost:8080/"
        },
        "id": "zJ0hiPbkzq1O",
        "outputId": "b6f966d1-272b-4718-b6e7-925bc80cc3b1"
      },
      "source": [
        "x = wn.synset('cat.n.01') \n",
        "y = wn.synset ('domestic_cat.n.01')\n",
        "x.path_similarity(y)"
      ],
      "execution_count": null,
      "outputs": [
        {
          "output_type": "execute_result",
          "data": {
            "text/plain": [
              "0.5"
            ]
          },
          "metadata": {
            "tags": []
          },
          "execution_count": 48
        }
      ]
    },
    {
      "cell_type": "markdown",
      "metadata": {
        "id": "NmA4g-z64ohh"
      },
      "source": [
        "자연어 처리 정규화"
      ]
    },
    {
      "cell_type": "code",
      "metadata": {
        "colab": {
          "base_uri": "https://localhost:8080/"
        },
        "id": "MuxstkCM4eBG",
        "outputId": "09cbc698-2697-4980-e18d-440a0fc2fc18"
      },
      "source": [
        "# 1. 토큰화 (텍스트 -> 단어로 쪼갠다.)\n",
        "\n",
        "from nltk.tokenize import WordPunctTokenizer\n",
        "word_punct = WordPunctTokenizer()\n",
        "\n",
        "text = \"}Help! :))) ^-^ :[ ..... :D{\"\n",
        "\n",
        "# Tokenize는 모든 구두점(punctuation; 문장부호)을 기준으로 분리 \n",
        "# -> 이모티콘을 이용한 감성 분석 등 문장구조 깊이 분석 할 때 사용\n",
        "\n",
        "word_punct.tokenize(text)"
      ],
      "execution_count": null,
      "outputs": [
        {
          "output_type": "execute_result",
          "data": {
            "text/plain": [
              "['}', 'Help', '!', ':)))', '^-^', ':[', '.....', ':', 'D', '{']"
            ]
          },
          "metadata": {
            "tags": []
          },
          "execution_count": 54
        }
      ]
    },
    {
      "cell_type": "code",
      "metadata": {
        "colab": {
          "base_uri": "https://localhost:8080/"
        },
        "id": "ktXL9bYx4kq3",
        "outputId": "988aa2a5-145e-4532-f647-e3dadb4eac01"
      },
      "source": [
        "# 단어 토큰나이저 nltk.download('punkt')\n",
        "# text = \"}Help! :))) ^-^ :[ ..... :D{\"\n",
        "\n",
        "nltk.word_tokenize(text)"
      ],
      "execution_count": null,
      "outputs": [
        {
          "output_type": "execute_result",
          "data": {
            "text/plain": [
              "['}',\n",
              " 'Help',\n",
              " '!',\n",
              " ':',\n",
              " ')',\n",
              " ')',\n",
              " ')',\n",
              " '^-^',\n",
              " ':',\n",
              " '[',\n",
              " '...',\n",
              " '..',\n",
              " ':',\n",
              " 'D',\n",
              " '{']"
            ]
          },
          "metadata": {
            "tags": []
          },
          "execution_count": 60
        }
      ]
    },
    {
      "cell_type": "code",
      "metadata": {
        "colab": {
          "base_uri": "https://localhost:8080/",
          "height": 35
        },
        "id": "6e7-opqy6z-z",
        "outputId": "3f4ce1c1-4a3f-4f58-ddcc-9437399096cf"
      },
      "source": [
        "#2. 단어의 대소문자를 통일한다 (전부 다 대문자 or 소문자)\n",
        "#3. 불용어 제거 (stopwords 리스트 차조 the 같은 것들 제거)\n",
        "#4. 형태소 분석(stemming) 단어를 형태소로 변환\n",
        "\n",
        "# vhxj guxoth qnstjrrl (보수적)\n",
        "\n",
        "pstemmer = nltk.PorterStemmer()\n",
        "pstemmer.stem(\"beautiful\")"
      ],
      "execution_count": null,
      "outputs": [
        {
          "output_type": "execute_result",
          "data": {
            "application/vnd.google.colaboratory.intrinsic+json": {
              "type": "string"
            },
            "text/plain": [
              "'beauti'"
            ]
          },
          "metadata": {
            "tags": []
          },
          "execution_count": 67
        }
      ]
    },
    {
      "cell_type": "code",
      "metadata": {
        "colab": {
          "base_uri": "https://localhost:8080/",
          "height": 35
        },
        "id": "YXCCWGoK7f6k",
        "outputId": "3cc1a11f-e508-4624-b71b-adde9b97285e"
      },
      "source": [
        "lstemmer = nltk.LancasterStemmer()\n",
        "lstemmer.stem(\"beautiful\")"
      ],
      "execution_count": null,
      "outputs": [
        {
          "output_type": "execute_result",
          "data": {
            "application/vnd.google.colaboratory.intrinsic+json": {
              "type": "string"
            },
            "text/plain": [
              "'beauty'"
            ]
          },
          "metadata": {
            "tags": []
          },
          "execution_count": 69
        }
      ]
    },
    {
      "cell_type": "code",
      "metadata": {
        "colab": {
          "base_uri": "https://localhost:8080/",
          "height": 35
        },
        "id": "Qh2XMji78F0V",
        "outputId": "e4402e75-2450-4d20-bf00-13a41abc329c"
      },
      "source": [
        "# 5. 원형 추출\n",
        "lemmatizer = nltk.WordNetLemmatizer()\n",
        "lemmatizer.lemmatize(\"beautiful\")"
      ],
      "execution_count": null,
      "outputs": [
        {
          "output_type": "execute_result",
          "data": {
            "application/vnd.google.colaboratory.intrinsic+json": {
              "type": "string"
            },
            "text/plain": [
              "'beautiful'"
            ]
          },
          "metadata": {
            "tags": []
          },
          "execution_count": 72
        }
      ]
    },
    {
      "cell_type": "code",
      "metadata": {
        "colab": {
          "base_uri": "https://localhost:8080/"
        },
        "id": "k6nzk07f8X0v",
        "outputId": "66e1c386-58dd-45e0-830b-daa028c54425"
      },
      "source": [
        "# 그외 품사 태깅 nltk.download('averaged_perceptron_tagger')\n",
        "\n",
        "\n",
        "nltk.pos_tag([\"beautiful\", \"world\"]) # JJ\tadjective(형용사), NN\tnoun(명사)\n"
      ],
      "execution_count": null,
      "outputs": [
        {
          "output_type": "execute_result",
          "data": {
            "text/plain": [
              "[('beautiful', 'JJ'), ('world', 'NN')]"
            ]
          },
          "metadata": {
            "tags": []
          },
          "execution_count": 76
        }
      ]
    },
    {
      "cell_type": "markdown",
      "metadata": {
        "id": "6mgqVT068-1L"
      },
      "source": [
        "index.html 파일에서(불용어 제거)\n"
      ]
    },
    {
      "cell_type": "code",
      "metadata": {
        "colab": {
          "base_uri": "https://localhost:8080/"
        },
        "id": "9kqvOszu9CIb",
        "outputId": "88dc40c8-2954-4002-8c94-6aee8e1d0d08"
      },
      "source": [
        "# www.networksciencelab.com 사이트에서 하이퍼 링크 정보 모두 가져오기\n",
        "from bs4 import BeautifulSoup\n",
        "from urllib.request import urlopen\n",
        "\n",
        "with urlopen(\"http://www.networksciencelab.com/\") as doc:\n",
        "  soup = BeautifulSoup(doc)\n",
        "\n",
        "# 하이퍼 링크 추출 a라는 태그안에 있는 href 가져와\n",
        "links = [(link.string, link[\"href\"]) for link in soup.find_all(\"a\") if link.has_attr(\"href\")]\n",
        "\n",
        "# 책 제목만 추출\n",
        "html_text = [i[0] for i in links]\n",
        "html_text"
      ],
      "execution_count": null,
      "outputs": [
        {
          "output_type": "execute_result",
          "data": {
            "text/plain": [
              "[None,\n",
              " None,\n",
              " 'DZPYDS',\n",
              " 'DZCNAPY',\n",
              " 'Networks of Music Groups as Success Predictors',\n",
              " 'Network Science Workshop',\n",
              " 'Resilience in Transaction-Oriented Networks',\n",
              " 'Peer Ratings in Massive Online Social Networks',\n",
              " 'Semantic Networks of Interests in Online NSSI Communities',\n",
              " 'Towards an Ideal Store',\n",
              " 'D.Zinoviev, \"Analyzing Cultural Domains with Python,\"',\n",
              " 'D. Zinoviev, D. Stefanescu, G. Fireman, and L. Swenson, \"Semantic networks of interests in online non-suicidal self-injury communities,\"',\n",
              " 'D.Zinoviev, \"The Pain of Complexity,\"',\n",
              " 'D.Zinoviev, Z.Zhu, and K.Li, \"Building mini-categories in product networks,\"',\n",
              " 'D.Zinoviev, H.Benbrahim, G.Meszoely, and D.Stefanescu, \"Mitigation of delayed management costs in transaction-oriented systems,\"',\n",
              " 'D.Zinoviev, H.Benbrahim, G.Meszoely, and D.Stefanescu, \"Simulating resilience in transaction-oriented networks,\"',\n",
              " 'D.Zinoviev, D.Stefanescu, L.Swenson, and G.Fireman, \"Semantic networks of interests in online NSSI communities,\"',\n",
              " 'D.Zinoviev and S.Llewelyn, \"Co-Evolution of Friendship and Publishing in Online Blogging Social Networks,\"',\n",
              " 'D.Zinoviev, \"Information diffusion in social networks,\"',\n",
              " 'D.Zinoviev and V.Duong, \"A game theoretical approach to broadcast  information diffusion in social networks,\"',\n",
              " 'D.Zinoviev and V.Duong, \"A game theoretical approach to modeling full-duplex information dissemination,\"',\n",
              " 'D.Zinoviev, V.Duong, and H.Zhang, \"A game theoretical approach to modeling information dissemination in social networks,\"',\n",
              " 'D.Zinoviev and V.Duong, \"Toward Understanding Friendship in Online Social Networks,\"',\n",
              " 'D.Zinoviev, \"Topology and Geometry of Online Social Networks,\"',\n",
              " 'Vixi: The Game of Meaning',\n",
              " 'Evgenia Cherkasova',\n",
              " 'All Characters from War and Peace by L.Tolstoy',\n",
              " 'Mapping the Bible: Social Networks in the Holy Book',\n",
              " 'FIFA World Cup 2014: Who Beat Whom?',\n",
              " 'The seed post \"9 American habits I lost when I moved to Germany\" and its 125 \"likes\" and \"shares\" on Facebook',\n",
              " 'Email',\n",
              " 'Suffolk University',\n",
              " 'Google Scholar',\n",
              " 'LinkedIn',\n",
              " 'Academia.edu',\n",
              " 'ResearchGate']"
            ]
          },
          "metadata": {
            "tags": []
          },
          "execution_count": 115
        }
      ]
    },
    {
      "cell_type": "code",
      "metadata": {
        "colab": {
          "base_uri": "https://localhost:8080/",
          "height": 230
        },
        "id": "jvRIc67XAf1o",
        "outputId": "8e31a5c9-0eae-465e-a829-9a68cccb1ef7"
      },
      "source": [
        "# None 데이터 제거\n",
        "html_text = \" \".join(html_text[2:])\n",
        "html_text"
      ],
      "execution_count": null,
      "outputs": [
        {
          "output_type": "execute_result",
          "data": {
            "application/vnd.google.colaboratory.intrinsic+json": {
              "type": "string"
            },
            "text/plain": [
              "'DZPYDS DZCNAPY Networks of Music Groups as Success Predictors Network Science Workshop Resilience in Transaction-Oriented Networks Peer Ratings in Massive Online Social Networks Semantic Networks of Interests in Online NSSI Communities Towards an Ideal Store D.Zinoviev, \"Analyzing Cultural Domains with Python,\" D. Zinoviev, D. Stefanescu, G. Fireman, and L. Swenson, \"Semantic networks of interests in online non-suicidal self-injury communities,\" D.Zinoviev, \"The Pain of Complexity,\" D.Zinoviev, Z.Zhu, and K.Li, \"Building mini-categories in product networks,\" D.Zinoviev, H.Benbrahim, G.Meszoely, and D.Stefanescu, \"Mitigation of delayed management costs in transaction-oriented systems,\" D.Zinoviev, H.Benbrahim, G.Meszoely, and D.Stefanescu, \"Simulating resilience in transaction-oriented networks,\" D.Zinoviev, D.Stefanescu, L.Swenson, and G.Fireman, \"Semantic networks of interests in online NSSI communities,\" D.Zinoviev and S.Llewelyn, \"Co-Evolution of Friendship and Publishing in Online Blogging Social Networks,\" D.Zinoviev, \"Information diffusion in social networks,\" D.Zinoviev and V.Duong, \"A game theoretical approach to broadcast  information diffusion in social networks,\" D.Zinoviev and V.Duong, \"A game theoretical approach to modeling full-duplex information dissemination,\" D.Zinoviev, V.Duong, and H.Zhang, \"A game theoretical approach to modeling information dissemination in social networks,\" D.Zinoviev and V.Duong, \"Toward Understanding Friendship in Online Social Networks,\" D.Zinoviev, \"Topology and Geometry of Online Social Networks,\" Vixi: The Game of Meaning Evgenia Cherkasova All Characters from War and Peace by L.Tolstoy Mapping the Bible: Social Networks in the Holy Book FIFA World Cup 2014: Who Beat Whom? The seed post \"9 American habits I lost when I moved to Germany\" and its 125 \"likes\" and \"shares\" on Facebook Email Suffolk University Google Scholar LinkedIn Academia.edu ResearchGate'"
            ]
          },
          "metadata": {
            "tags": []
          },
          "execution_count": 116
        }
      ]
    },
    {
      "cell_type": "code",
      "metadata": {
        "id": "6BIlL85M-cMo"
      },
      "source": [
        "# index.html 파일로 저장\n",
        "html_file = open(\"index.html\",'w')\n",
        "html_file.write(html_text)\n",
        "html_file.close()"
      ],
      "execution_count": null,
      "outputs": []
    },
    {
      "cell_type": "code",
      "metadata": {
        "colab": {
          "base_uri": "https://localhost:8080/"
        },
        "id": "shn_sPG9AoIx",
        "outputId": "f3caa1f7-4c84-45fa-842d-58f7996e5045"
      },
      "source": [
        "from bs4 import BeautifulSoup\n",
        "from collections import Counter\n",
        "from nltk.corpus import stopwords\n",
        "from nltk import LancasterStemmer\n",
        "\n",
        "# 형태소 분류기를 생성한다.\n",
        "\n",
        "ls = nltk.LancasterStemmer()\n",
        "\n",
        "# 파일을 읽고 soup를 만든다.\n",
        "with open(\"/content/index.html\") as infile:\n",
        "  soup = BeautifulSoup(infile)\n",
        "\n",
        "print(soup)\n"
      ],
      "execution_count": null,
      "outputs": [
        {
          "output_type": "stream",
          "text": [
            "<html><body><p>DZPYDS DZCNAPY Networks of Music Groups as Success Predictors Network Science Workshop Resilience in Transaction-Oriented Networks Peer Ratings in Massive Online Social Networks Semantic Networks of Interests in Online NSSI Communities Towards an Ideal Store D.Zinoviev, \"Analyzing Cultural Domains with Python,\" D. Zinoviev, D. Stefanescu, G. Fireman, and L. Swenson, \"Semantic networks of interests in online non-suicidal self-injury communities,\" D.Zinoviev, \"The Pain of Complexity,\" D.Zinoviev, Z.Zhu, and K.Li, \"Building mini-categories in product networks,\" D.Zinoviev, H.Benbrahim, G.Meszoely, and D.Stefanescu, \"Mitigation of delayed management costs in transaction-oriented systems,\" D.Zinoviev, H.Benbrahim, G.Meszoely, and D.Stefanescu, \"Simulating resilience in transaction-oriented networks,\" D.Zinoviev, D.Stefanescu, L.Swenson, and G.Fireman, \"Semantic networks of interests in online NSSI communities,\" D.Zinoviev and S.Llewelyn, \"Co-Evolution of Friendship and Publishing in Online Blogging Social Networks,\" D.Zinoviev, \"Information diffusion in social networks,\" D.Zinoviev and V.Duong, \"A game theoretical approach to broadcast  information diffusion in social networks,\" D.Zinoviev and V.Duong, \"A game theoretical approach to modeling full-duplex information dissemination,\" D.Zinoviev, V.Duong, and H.Zhang, \"A game theoretical approach to modeling information dissemination in social networks,\" D.Zinoviev and V.Duong, \"Toward Understanding Friendship in Online Social Networks,\" D.Zinoviev, \"Topology and Geometry of Online Social Networks,\" Vixi: The Game of Meaning Evgenia Cherkasova All Characters from War and Peace by L.Tolstoy Mapping the Bible: Social Networks in the Holy Book FIFA World Cup 2014: Who Beat Whom? The seed post \"9 American habits I lost when I moved to Germany\" and its 125 \"likes\" and \"shares\" on Facebook Email Suffolk University Google Scholar LinkedIn Academia.edu ResearchGate</p></body></html>\n"
          ],
          "name": "stdout"
        }
      ]
    },
    {
      "cell_type": "code",
      "metadata": {
        "colab": {
          "base_uri": "https://localhost:8080/"
        },
        "id": "GIJ7R14fYz88",
        "outputId": "455811e4-cbfe-44c2-8d15-d232e28c03d0"
      },
      "source": [
        "soup"
      ],
      "execution_count": null,
      "outputs": [
        {
          "output_type": "execute_result",
          "data": {
            "text/plain": [
              "<html><body><p>DZPYDS DZCNAPY Networks of Music Groups as Success Predictors Network Science Workshop Resilience in Transaction-Oriented Networks Peer Ratings in Massive Online Social Networks Semantic Networks of Interests in Online NSSI Communities Towards an Ideal Store D.Zinoviev, \"Analyzing Cultural Domains with Python,\" D. Zinoviev, D. Stefanescu, G. Fireman, and L. Swenson, \"Semantic networks of interests in online non-suicidal self-injury communities,\" D.Zinoviev, \"The Pain of Complexity,\" D.Zinoviev, Z.Zhu, and K.Li, \"Building mini-categories in product networks,\" D.Zinoviev, H.Benbrahim, G.Meszoely, and D.Stefanescu, \"Mitigation of delayed management costs in transaction-oriented systems,\" D.Zinoviev, H.Benbrahim, G.Meszoely, and D.Stefanescu, \"Simulating resilience in transaction-oriented networks,\" D.Zinoviev, D.Stefanescu, L.Swenson, and G.Fireman, \"Semantic networks of interests in online NSSI communities,\" D.Zinoviev and S.Llewelyn, \"Co-Evolution of Friendship and Publishing in Online Blogging Social Networks,\" D.Zinoviev, \"Information diffusion in social networks,\" D.Zinoviev and V.Duong, \"A game theoretical approach to broadcast  information diffusion in social networks,\" D.Zinoviev and V.Duong, \"A game theoretical approach to modeling full-duplex information dissemination,\" D.Zinoviev, V.Duong, and H.Zhang, \"A game theoretical approach to modeling information dissemination in social networks,\" D.Zinoviev and V.Duong, \"Toward Understanding Friendship in Online Social Networks,\" D.Zinoviev, \"Topology and Geometry of Online Social Networks,\" Vixi: The Game of Meaning Evgenia Cherkasova All Characters from War and Peace by L.Tolstoy Mapping the Bible: Social Networks in the Holy Book FIFA World Cup 2014: Who Beat Whom? The seed post \"9 American habits I lost when I moved to Germany\" and its 125 \"likes\" and \"shares\" on Facebook Email Suffolk University Google Scholar LinkedIn Academia.edu ResearchGate</p></body></html>"
            ]
          },
          "metadata": {
            "tags": []
          },
          "execution_count": 119
        }
      ]
    },
    {
      "cell_type": "code",
      "metadata": {
        "colab": {
          "base_uri": "https://localhost:8080/",
          "height": 230
        },
        "id": "16kgwz6eY015",
        "outputId": "cacf3953-16c0-47a6-c8bc-dde375bb091a"
      },
      "source": [
        "soup.text"
      ],
      "execution_count": null,
      "outputs": [
        {
          "output_type": "execute_result",
          "data": {
            "application/vnd.google.colaboratory.intrinsic+json": {
              "type": "string"
            },
            "text/plain": [
              "'DZPYDS DZCNAPY Networks of Music Groups as Success Predictors Network Science Workshop Resilience in Transaction-Oriented Networks Peer Ratings in Massive Online Social Networks Semantic Networks of Interests in Online NSSI Communities Towards an Ideal Store D.Zinoviev, \"Analyzing Cultural Domains with Python,\" D. Zinoviev, D. Stefanescu, G. Fireman, and L. Swenson, \"Semantic networks of interests in online non-suicidal self-injury communities,\" D.Zinoviev, \"The Pain of Complexity,\" D.Zinoviev, Z.Zhu, and K.Li, \"Building mini-categories in product networks,\" D.Zinoviev, H.Benbrahim, G.Meszoely, and D.Stefanescu, \"Mitigation of delayed management costs in transaction-oriented systems,\" D.Zinoviev, H.Benbrahim, G.Meszoely, and D.Stefanescu, \"Simulating resilience in transaction-oriented networks,\" D.Zinoviev, D.Stefanescu, L.Swenson, and G.Fireman, \"Semantic networks of interests in online NSSI communities,\" D.Zinoviev and S.Llewelyn, \"Co-Evolution of Friendship and Publishing in Online Blogging Social Networks,\" D.Zinoviev, \"Information diffusion in social networks,\" D.Zinoviev and V.Duong, \"A game theoretical approach to broadcast  information diffusion in social networks,\" D.Zinoviev and V.Duong, \"A game theoretical approach to modeling full-duplex information dissemination,\" D.Zinoviev, V.Duong, and H.Zhang, \"A game theoretical approach to modeling information dissemination in social networks,\" D.Zinoviev and V.Duong, \"Toward Understanding Friendship in Online Social Networks,\" D.Zinoviev, \"Topology and Geometry of Online Social Networks,\" Vixi: The Game of Meaning Evgenia Cherkasova All Characters from War and Peace by L.Tolstoy Mapping the Bible: Social Networks in the Holy Book FIFA World Cup 2014: Who Beat Whom? The seed post \"9 American habits I lost when I moved to Germany\" and its 125 \"likes\" and \"shares\" on Facebook Email Suffolk University Google Scholar LinkedIn Academia.edu ResearchGate'"
            ]
          },
          "metadata": {
            "tags": []
          },
          "execution_count": 120
        }
      ]
    },
    {
      "cell_type": "code",
      "metadata": {
        "colab": {
          "base_uri": "https://localhost:8080/"
        },
        "id": "6Ff0byn-Y22n",
        "outputId": "f518ab5b-7e47-45b7-82ed-a15d7c7c53d9"
      },
      "source": [
        "# 1) 텍스트 추출 -> 토큰화\n",
        "\n",
        "words = nltk.word_tokenize(soup.text)\n",
        "words"
      ],
      "execution_count": null,
      "outputs": [
        {
          "output_type": "execute_result",
          "data": {
            "text/plain": [
              "['DZPYDS',\n",
              " 'DZCNAPY',\n",
              " 'Networks',\n",
              " 'of',\n",
              " 'Music',\n",
              " 'Groups',\n",
              " 'as',\n",
              " 'Success',\n",
              " 'Predictors',\n",
              " 'Network',\n",
              " 'Science',\n",
              " 'Workshop',\n",
              " 'Resilience',\n",
              " 'in',\n",
              " 'Transaction-Oriented',\n",
              " 'Networks',\n",
              " 'Peer',\n",
              " 'Ratings',\n",
              " 'in',\n",
              " 'Massive',\n",
              " 'Online',\n",
              " 'Social',\n",
              " 'Networks',\n",
              " 'Semantic',\n",
              " 'Networks',\n",
              " 'of',\n",
              " 'Interests',\n",
              " 'in',\n",
              " 'Online',\n",
              " 'NSSI',\n",
              " 'Communities',\n",
              " 'Towards',\n",
              " 'an',\n",
              " 'Ideal',\n",
              " 'Store',\n",
              " 'D.Zinoviev',\n",
              " ',',\n",
              " '``',\n",
              " 'Analyzing',\n",
              " 'Cultural',\n",
              " 'Domains',\n",
              " 'with',\n",
              " 'Python',\n",
              " ',',\n",
              " \"''\",\n",
              " 'D.',\n",
              " 'Zinoviev',\n",
              " ',',\n",
              " 'D.',\n",
              " 'Stefanescu',\n",
              " ',',\n",
              " 'G.',\n",
              " 'Fireman',\n",
              " ',',\n",
              " 'and',\n",
              " 'L.',\n",
              " 'Swenson',\n",
              " ',',\n",
              " '``',\n",
              " 'Semantic',\n",
              " 'networks',\n",
              " 'of',\n",
              " 'interests',\n",
              " 'in',\n",
              " 'online',\n",
              " 'non-suicidal',\n",
              " 'self-injury',\n",
              " 'communities',\n",
              " ',',\n",
              " \"''\",\n",
              " 'D.Zinoviev',\n",
              " ',',\n",
              " '``',\n",
              " 'The',\n",
              " 'Pain',\n",
              " 'of',\n",
              " 'Complexity',\n",
              " ',',\n",
              " \"''\",\n",
              " 'D.Zinoviev',\n",
              " ',',\n",
              " 'Z.Zhu',\n",
              " ',',\n",
              " 'and',\n",
              " 'K.Li',\n",
              " ',',\n",
              " '``',\n",
              " 'Building',\n",
              " 'mini-categories',\n",
              " 'in',\n",
              " 'product',\n",
              " 'networks',\n",
              " ',',\n",
              " \"''\",\n",
              " 'D.Zinoviev',\n",
              " ',',\n",
              " 'H.Benbrahim',\n",
              " ',',\n",
              " 'G.Meszoely',\n",
              " ',',\n",
              " 'and',\n",
              " 'D.Stefanescu',\n",
              " ',',\n",
              " '``',\n",
              " 'Mitigation',\n",
              " 'of',\n",
              " 'delayed',\n",
              " 'management',\n",
              " 'costs',\n",
              " 'in',\n",
              " 'transaction-oriented',\n",
              " 'systems',\n",
              " ',',\n",
              " \"''\",\n",
              " 'D.Zinoviev',\n",
              " ',',\n",
              " 'H.Benbrahim',\n",
              " ',',\n",
              " 'G.Meszoely',\n",
              " ',',\n",
              " 'and',\n",
              " 'D.Stefanescu',\n",
              " ',',\n",
              " '``',\n",
              " 'Simulating',\n",
              " 'resilience',\n",
              " 'in',\n",
              " 'transaction-oriented',\n",
              " 'networks',\n",
              " ',',\n",
              " \"''\",\n",
              " 'D.Zinoviev',\n",
              " ',',\n",
              " 'D.Stefanescu',\n",
              " ',',\n",
              " 'L.Swenson',\n",
              " ',',\n",
              " 'and',\n",
              " 'G.Fireman',\n",
              " ',',\n",
              " '``',\n",
              " 'Semantic',\n",
              " 'networks',\n",
              " 'of',\n",
              " 'interests',\n",
              " 'in',\n",
              " 'online',\n",
              " 'NSSI',\n",
              " 'communities',\n",
              " ',',\n",
              " \"''\",\n",
              " 'D.Zinoviev',\n",
              " 'and',\n",
              " 'S.Llewelyn',\n",
              " ',',\n",
              " '``',\n",
              " 'Co-Evolution',\n",
              " 'of',\n",
              " 'Friendship',\n",
              " 'and',\n",
              " 'Publishing',\n",
              " 'in',\n",
              " 'Online',\n",
              " 'Blogging',\n",
              " 'Social',\n",
              " 'Networks',\n",
              " ',',\n",
              " \"''\",\n",
              " 'D.Zinoviev',\n",
              " ',',\n",
              " '``',\n",
              " 'Information',\n",
              " 'diffusion',\n",
              " 'in',\n",
              " 'social',\n",
              " 'networks',\n",
              " ',',\n",
              " \"''\",\n",
              " 'D.Zinoviev',\n",
              " 'and',\n",
              " 'V.Duong',\n",
              " ',',\n",
              " '``',\n",
              " 'A',\n",
              " 'game',\n",
              " 'theoretical',\n",
              " 'approach',\n",
              " 'to',\n",
              " 'broadcast',\n",
              " 'information',\n",
              " 'diffusion',\n",
              " 'in',\n",
              " 'social',\n",
              " 'networks',\n",
              " ',',\n",
              " \"''\",\n",
              " 'D.Zinoviev',\n",
              " 'and',\n",
              " 'V.Duong',\n",
              " ',',\n",
              " '``',\n",
              " 'A',\n",
              " 'game',\n",
              " 'theoretical',\n",
              " 'approach',\n",
              " 'to',\n",
              " 'modeling',\n",
              " 'full-duplex',\n",
              " 'information',\n",
              " 'dissemination',\n",
              " ',',\n",
              " \"''\",\n",
              " 'D.Zinoviev',\n",
              " ',',\n",
              " 'V.Duong',\n",
              " ',',\n",
              " 'and',\n",
              " 'H.Zhang',\n",
              " ',',\n",
              " '``',\n",
              " 'A',\n",
              " 'game',\n",
              " 'theoretical',\n",
              " 'approach',\n",
              " 'to',\n",
              " 'modeling',\n",
              " 'information',\n",
              " 'dissemination',\n",
              " 'in',\n",
              " 'social',\n",
              " 'networks',\n",
              " ',',\n",
              " \"''\",\n",
              " 'D.Zinoviev',\n",
              " 'and',\n",
              " 'V.Duong',\n",
              " ',',\n",
              " '``',\n",
              " 'Toward',\n",
              " 'Understanding',\n",
              " 'Friendship',\n",
              " 'in',\n",
              " 'Online',\n",
              " 'Social',\n",
              " 'Networks',\n",
              " ',',\n",
              " \"''\",\n",
              " 'D.Zinoviev',\n",
              " ',',\n",
              " '``',\n",
              " 'Topology',\n",
              " 'and',\n",
              " 'Geometry',\n",
              " 'of',\n",
              " 'Online',\n",
              " 'Social',\n",
              " 'Networks',\n",
              " ',',\n",
              " \"''\",\n",
              " 'Vixi',\n",
              " ':',\n",
              " 'The',\n",
              " 'Game',\n",
              " 'of',\n",
              " 'Meaning',\n",
              " 'Evgenia',\n",
              " 'Cherkasova',\n",
              " 'All',\n",
              " 'Characters',\n",
              " 'from',\n",
              " 'War',\n",
              " 'and',\n",
              " 'Peace',\n",
              " 'by',\n",
              " 'L.Tolstoy',\n",
              " 'Mapping',\n",
              " 'the',\n",
              " 'Bible',\n",
              " ':',\n",
              " 'Social',\n",
              " 'Networks',\n",
              " 'in',\n",
              " 'the',\n",
              " 'Holy',\n",
              " 'Book',\n",
              " 'FIFA',\n",
              " 'World',\n",
              " 'Cup',\n",
              " '2014',\n",
              " ':',\n",
              " 'Who',\n",
              " 'Beat',\n",
              " 'Whom',\n",
              " '?',\n",
              " 'The',\n",
              " 'seed',\n",
              " 'post',\n",
              " '``',\n",
              " '9',\n",
              " 'American',\n",
              " 'habits',\n",
              " 'I',\n",
              " 'lost',\n",
              " 'when',\n",
              " 'I',\n",
              " 'moved',\n",
              " 'to',\n",
              " 'Germany',\n",
              " \"''\",\n",
              " 'and',\n",
              " 'its',\n",
              " '125',\n",
              " '``',\n",
              " 'likes',\n",
              " \"''\",\n",
              " 'and',\n",
              " '``',\n",
              " 'shares',\n",
              " \"''\",\n",
              " 'on',\n",
              " 'Facebook',\n",
              " 'Email',\n",
              " 'Suffolk',\n",
              " 'University',\n",
              " 'Google',\n",
              " 'Scholar',\n",
              " 'LinkedIn',\n",
              " 'Academia.edu',\n",
              " 'ResearchGate']"
            ]
          },
          "metadata": {
            "tags": []
          },
          "execution_count": 121
        }
      ]
    },
    {
      "cell_type": "code",
      "metadata": {
        "colab": {
          "base_uri": "https://localhost:8080/"
        },
        "id": "Jv7gGwsAag4c",
        "outputId": "0fdee589-6271-4ac7-9430-7647e4d4a6ab"
      },
      "source": [
        "# 2) 단어를 소문자로 변환\n",
        "words = [ w.lower() for w in words]\n",
        "words"
      ],
      "execution_count": null,
      "outputs": [
        {
          "output_type": "execute_result",
          "data": {
            "text/plain": [
              "['dzpyds',\n",
              " 'dzcnapy',\n",
              " 'networks',\n",
              " 'of',\n",
              " 'music',\n",
              " 'groups',\n",
              " 'as',\n",
              " 'success',\n",
              " 'predictors',\n",
              " 'network',\n",
              " 'science',\n",
              " 'workshop',\n",
              " 'resilience',\n",
              " 'in',\n",
              " 'transaction-oriented',\n",
              " 'networks',\n",
              " 'peer',\n",
              " 'ratings',\n",
              " 'in',\n",
              " 'massive',\n",
              " 'online',\n",
              " 'social',\n",
              " 'networks',\n",
              " 'semantic',\n",
              " 'networks',\n",
              " 'of',\n",
              " 'interests',\n",
              " 'in',\n",
              " 'online',\n",
              " 'nssi',\n",
              " 'communities',\n",
              " 'towards',\n",
              " 'an',\n",
              " 'ideal',\n",
              " 'store',\n",
              " 'd.zinoviev',\n",
              " ',',\n",
              " '``',\n",
              " 'analyzing',\n",
              " 'cultural',\n",
              " 'domains',\n",
              " 'with',\n",
              " 'python',\n",
              " ',',\n",
              " \"''\",\n",
              " 'd.',\n",
              " 'zinoviev',\n",
              " ',',\n",
              " 'd.',\n",
              " 'stefanescu',\n",
              " ',',\n",
              " 'g.',\n",
              " 'fireman',\n",
              " ',',\n",
              " 'and',\n",
              " 'l.',\n",
              " 'swenson',\n",
              " ',',\n",
              " '``',\n",
              " 'semantic',\n",
              " 'networks',\n",
              " 'of',\n",
              " 'interests',\n",
              " 'in',\n",
              " 'online',\n",
              " 'non-suicidal',\n",
              " 'self-injury',\n",
              " 'communities',\n",
              " ',',\n",
              " \"''\",\n",
              " 'd.zinoviev',\n",
              " ',',\n",
              " '``',\n",
              " 'the',\n",
              " 'pain',\n",
              " 'of',\n",
              " 'complexity',\n",
              " ',',\n",
              " \"''\",\n",
              " 'd.zinoviev',\n",
              " ',',\n",
              " 'z.zhu',\n",
              " ',',\n",
              " 'and',\n",
              " 'k.li',\n",
              " ',',\n",
              " '``',\n",
              " 'building',\n",
              " 'mini-categories',\n",
              " 'in',\n",
              " 'product',\n",
              " 'networks',\n",
              " ',',\n",
              " \"''\",\n",
              " 'd.zinoviev',\n",
              " ',',\n",
              " 'h.benbrahim',\n",
              " ',',\n",
              " 'g.meszoely',\n",
              " ',',\n",
              " 'and',\n",
              " 'd.stefanescu',\n",
              " ',',\n",
              " '``',\n",
              " 'mitigation',\n",
              " 'of',\n",
              " 'delayed',\n",
              " 'management',\n",
              " 'costs',\n",
              " 'in',\n",
              " 'transaction-oriented',\n",
              " 'systems',\n",
              " ',',\n",
              " \"''\",\n",
              " 'd.zinoviev',\n",
              " ',',\n",
              " 'h.benbrahim',\n",
              " ',',\n",
              " 'g.meszoely',\n",
              " ',',\n",
              " 'and',\n",
              " 'd.stefanescu',\n",
              " ',',\n",
              " '``',\n",
              " 'simulating',\n",
              " 'resilience',\n",
              " 'in',\n",
              " 'transaction-oriented',\n",
              " 'networks',\n",
              " ',',\n",
              " \"''\",\n",
              " 'd.zinoviev',\n",
              " ',',\n",
              " 'd.stefanescu',\n",
              " ',',\n",
              " 'l.swenson',\n",
              " ',',\n",
              " 'and',\n",
              " 'g.fireman',\n",
              " ',',\n",
              " '``',\n",
              " 'semantic',\n",
              " 'networks',\n",
              " 'of',\n",
              " 'interests',\n",
              " 'in',\n",
              " 'online',\n",
              " 'nssi',\n",
              " 'communities',\n",
              " ',',\n",
              " \"''\",\n",
              " 'd.zinoviev',\n",
              " 'and',\n",
              " 's.llewelyn',\n",
              " ',',\n",
              " '``',\n",
              " 'co-evolution',\n",
              " 'of',\n",
              " 'friendship',\n",
              " 'and',\n",
              " 'publishing',\n",
              " 'in',\n",
              " 'online',\n",
              " 'blogging',\n",
              " 'social',\n",
              " 'networks',\n",
              " ',',\n",
              " \"''\",\n",
              " 'd.zinoviev',\n",
              " ',',\n",
              " '``',\n",
              " 'information',\n",
              " 'diffusion',\n",
              " 'in',\n",
              " 'social',\n",
              " 'networks',\n",
              " ',',\n",
              " \"''\",\n",
              " 'd.zinoviev',\n",
              " 'and',\n",
              " 'v.duong',\n",
              " ',',\n",
              " '``',\n",
              " 'a',\n",
              " 'game',\n",
              " 'theoretical',\n",
              " 'approach',\n",
              " 'to',\n",
              " 'broadcast',\n",
              " 'information',\n",
              " 'diffusion',\n",
              " 'in',\n",
              " 'social',\n",
              " 'networks',\n",
              " ',',\n",
              " \"''\",\n",
              " 'd.zinoviev',\n",
              " 'and',\n",
              " 'v.duong',\n",
              " ',',\n",
              " '``',\n",
              " 'a',\n",
              " 'game',\n",
              " 'theoretical',\n",
              " 'approach',\n",
              " 'to',\n",
              " 'modeling',\n",
              " 'full-duplex',\n",
              " 'information',\n",
              " 'dissemination',\n",
              " ',',\n",
              " \"''\",\n",
              " 'd.zinoviev',\n",
              " ',',\n",
              " 'v.duong',\n",
              " ',',\n",
              " 'and',\n",
              " 'h.zhang',\n",
              " ',',\n",
              " '``',\n",
              " 'a',\n",
              " 'game',\n",
              " 'theoretical',\n",
              " 'approach',\n",
              " 'to',\n",
              " 'modeling',\n",
              " 'information',\n",
              " 'dissemination',\n",
              " 'in',\n",
              " 'social',\n",
              " 'networks',\n",
              " ',',\n",
              " \"''\",\n",
              " 'd.zinoviev',\n",
              " 'and',\n",
              " 'v.duong',\n",
              " ',',\n",
              " '``',\n",
              " 'toward',\n",
              " 'understanding',\n",
              " 'friendship',\n",
              " 'in',\n",
              " 'online',\n",
              " 'social',\n",
              " 'networks',\n",
              " ',',\n",
              " \"''\",\n",
              " 'd.zinoviev',\n",
              " ',',\n",
              " '``',\n",
              " 'topology',\n",
              " 'and',\n",
              " 'geometry',\n",
              " 'of',\n",
              " 'online',\n",
              " 'social',\n",
              " 'networks',\n",
              " ',',\n",
              " \"''\",\n",
              " 'vixi',\n",
              " ':',\n",
              " 'the',\n",
              " 'game',\n",
              " 'of',\n",
              " 'meaning',\n",
              " 'evgenia',\n",
              " 'cherkasova',\n",
              " 'all',\n",
              " 'characters',\n",
              " 'from',\n",
              " 'war',\n",
              " 'and',\n",
              " 'peace',\n",
              " 'by',\n",
              " 'l.tolstoy',\n",
              " 'mapping',\n",
              " 'the',\n",
              " 'bible',\n",
              " ':',\n",
              " 'social',\n",
              " 'networks',\n",
              " 'in',\n",
              " 'the',\n",
              " 'holy',\n",
              " 'book',\n",
              " 'fifa',\n",
              " 'world',\n",
              " 'cup',\n",
              " '2014',\n",
              " ':',\n",
              " 'who',\n",
              " 'beat',\n",
              " 'whom',\n",
              " '?',\n",
              " 'the',\n",
              " 'seed',\n",
              " 'post',\n",
              " '``',\n",
              " '9',\n",
              " 'american',\n",
              " 'habits',\n",
              " 'i',\n",
              " 'lost',\n",
              " 'when',\n",
              " 'i',\n",
              " 'moved',\n",
              " 'to',\n",
              " 'germany',\n",
              " \"''\",\n",
              " 'and',\n",
              " 'its',\n",
              " '125',\n",
              " '``',\n",
              " 'likes',\n",
              " \"''\",\n",
              " 'and',\n",
              " '``',\n",
              " 'shares',\n",
              " \"''\",\n",
              " 'on',\n",
              " 'facebook',\n",
              " 'email',\n",
              " 'suffolk',\n",
              " 'university',\n",
              " 'google',\n",
              " 'scholar',\n",
              " 'linkedin',\n",
              " 'academia.edu',\n",
              " 'researchgate']"
            ]
          },
          "metadata": {
            "tags": []
          },
          "execution_count": 122
        }
      ]
    },
    {
      "cell_type": "code",
      "metadata": {
        "colab": {
          "base_uri": "https://localhost:8080/"
        },
        "id": "G8XumgvObOnZ",
        "outputId": "2347d764-96b5-4c70-ed7c-7884fa84c3bf"
      },
      "source": [
        "# 3) 불용어를 제거하고 단어의 형태소를 추출\n",
        "# 3-1) 불용어 제거 stopwords.words(\"english\")\n",
        "# 3-2) 특수기호 제거 isalunum()\n",
        "\n",
        "words = [ls.stem(w) for w in words if w not in stopwords.words(\"english\") and w.isalnum()]\n",
        "words\n",
        "#isalnum() : 문자열이 알파벳([a-zA-Z])과 숫자([0-9])로만 구성되었는지 확인하는 파이썬 문자열 메소드"
      ],
      "execution_count": null,
      "outputs": [
        {
          "output_type": "execute_result",
          "data": {
            "text/plain": [
              "['dzpyds',\n",
              " 'dzcnapy',\n",
              " 'network',\n",
              " 'mus',\n",
              " 'group',\n",
              " 'success',\n",
              " 'predict',\n",
              " 'network',\n",
              " 'sci',\n",
              " 'workshop',\n",
              " 'resy',\n",
              " 'network',\n",
              " 'peer',\n",
              " 'rat',\n",
              " 'mass',\n",
              " 'onlin',\n",
              " 'soc',\n",
              " 'network',\n",
              " 'sem',\n",
              " 'network',\n",
              " 'interest',\n",
              " 'onlin',\n",
              " 'nssi',\n",
              " 'commun',\n",
              " 'toward',\n",
              " 'id',\n",
              " 'stor',\n",
              " 'cult',\n",
              " 'domain',\n",
              " 'python',\n",
              " 'zinoviev',\n",
              " 'stefanescu',\n",
              " 'firem',\n",
              " 'swenson',\n",
              " 'sem',\n",
              " 'network',\n",
              " 'interest',\n",
              " 'onlin',\n",
              " 'commun',\n",
              " 'pain',\n",
              " 'complex',\n",
              " 'build',\n",
              " 'produc',\n",
              " 'network',\n",
              " 'mitig',\n",
              " 'delay',\n",
              " 'man',\n",
              " 'cost',\n",
              " 'system',\n",
              " 'sim',\n",
              " 'resy',\n",
              " 'network',\n",
              " 'sem',\n",
              " 'network',\n",
              " 'interest',\n",
              " 'onlin',\n",
              " 'nssi',\n",
              " 'commun',\n",
              " 'friend',\n",
              " 'publ',\n",
              " 'onlin',\n",
              " 'blog',\n",
              " 'soc',\n",
              " 'network',\n",
              " 'inform',\n",
              " 'diff',\n",
              " 'soc',\n",
              " 'network',\n",
              " 'gam',\n",
              " 'theoret',\n",
              " 'approach',\n",
              " 'broadcast',\n",
              " 'inform',\n",
              " 'diff',\n",
              " 'soc',\n",
              " 'network',\n",
              " 'gam',\n",
              " 'theoret',\n",
              " 'approach',\n",
              " 'model',\n",
              " 'inform',\n",
              " 'dissemin',\n",
              " 'gam',\n",
              " 'theoret',\n",
              " 'approach',\n",
              " 'model',\n",
              " 'inform',\n",
              " 'dissemin',\n",
              " 'soc',\n",
              " 'network',\n",
              " 'toward',\n",
              " 'understand',\n",
              " 'friend',\n",
              " 'onlin',\n",
              " 'soc',\n",
              " 'network',\n",
              " 'topolog',\n",
              " 'geometry',\n",
              " 'onlin',\n",
              " 'soc',\n",
              " 'network',\n",
              " 'vix',\n",
              " 'gam',\n",
              " 'mean',\n",
              " 'evg',\n",
              " 'cherkasov',\n",
              " 'charact',\n",
              " 'war',\n",
              " 'peac',\n",
              " 'map',\n",
              " 'bibl',\n",
              " 'soc',\n",
              " 'network',\n",
              " 'holy',\n",
              " 'book',\n",
              " 'fif',\n",
              " 'world',\n",
              " 'cup',\n",
              " '2014',\n",
              " 'beat',\n",
              " 'see',\n",
              " 'post',\n",
              " '9',\n",
              " 'habit',\n",
              " 'lost',\n",
              " 'mov',\n",
              " 'germany',\n",
              " '125',\n",
              " 'lik',\n",
              " 'shar',\n",
              " 'facebook',\n",
              " 'email',\n",
              " 'suffolk',\n",
              " 'un',\n",
              " 'googl',\n",
              " 'scholar',\n",
              " 'linkedin',\n",
              " 'researchg']"
            ]
          },
          "metadata": {
            "tags": []
          },
          "execution_count": 128
        }
      ]
    },
    {
      "cell_type": "code",
      "metadata": {
        "colab": {
          "base_uri": "https://localhost:8080/"
        },
        "id": "Y8M4BHZucvNe",
        "outputId": "9f28dcea-14fc-4cb8-9e22-3ec1e61f8a15"
      },
      "source": [
        "# 4) 가장 빈번하게 등자흐는 단어 10개 추출 \n",
        "freqs =  Counter(words)\n",
        "print(freqs.most_common(5))"
      ],
      "execution_count": null,
      "outputs": [
        {
          "output_type": "stream",
          "text": [
            "[('network', 16), ('soc', 8), ('onlin', 7), ('inform', 4), ('gam', 4)]\n"
          ],
          "name": "stdout"
        }
      ]
    }
  ]
}